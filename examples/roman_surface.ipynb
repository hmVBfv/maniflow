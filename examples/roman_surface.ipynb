{
 "cells": [
  {
   "cell_type": "markdown",
   "id": "ab3fdb39-8d65-465b-8fe3-dbccc14de231",
   "metadata": {},
   "source": [
    "# Example of a non-orientable surface: The Roman surface\n",
    "\n",
    "The Roman surface (also known as Steiner's surface) is a mapping of the real projective plane $\\mathbb{R}P^2$ into $\\mathbb{R}^3$. It was found by Jakob Steiner 1844 and is a famous example of a non-orientable surface. The Roman surface is given by the following parametric equations: [[1]](https://en.wikipedia.org/wiki/Roman_surface)\n",
    "\\begin{align}\n",
    "x &= \\cos(\\theta)\\sin(\\theta)\\cos^2(\\varphi)\\\\\n",
    "y &= \\sin(\\theta)\\cos(\\varphi)\\sin(\\varphi)\\\\\n",
    "z &= \\cos(\\theta)\\cos(\\varphi)\\sin(\\varphi)\n",
    "\\end{align}\n",
    "Using ```maniflow```, one can implement these parametric equations using the ```Grid``` class and a ```VertexFunction```:"
   ]
  },
  {
   "cell_type": "code",
   "execution_count": 1,
   "id": "b88bd412-5274-49b8-9da5-539b1b7d0bd4",
   "metadata": {},
   "outputs": [],
   "source": [
    "# we first import the necessary modules\n",
    "import numpy as np\n",
    "\n",
    "from maniflow.mesh.utils import *\n",
    "from maniflow.mesh.parameterized import *\n",
    "\n",
    "\n",
    "# now we implement the parametric equations as a VertexFunction that will act on a Grid-object\n",
    "@VertexFunction\n",
    "def steiner(vertex):\n",
    "    u, v = vertex[0], vertex[1]\n",
    "    # we can replicate the equations one-to-one in code\n",
    "    x = np.cos(u) * np.sin(u) * pow(np.cos(v), 2)\n",
    "    y = np.sin(u) * np.cos(v) * np.sin(v)\n",
    "    z = np.cos(u) * np.cos(v) * np.sin(v)\n",
    "    return np.array([x, y, z])\n",
    "\n",
    "\n",
    "grid = Grid((0, np.pi), (0, np.pi), 40, 40)  # we define a grid on which the VertexFunction should act\n",
    "roman = steiner(grid)  # now, we finally apply the parametric equations and obtain the Roman surface\n",
    "coincidingVertices(roman)"
   ]
  },
  {
   "cell_type": "markdown",
   "id": "2b7cfac1-efcb-44c7-8ed6-b0cbf34cf923",
   "metadata": {},
   "source": [
    "**Disclaimer:** As the ```Grid```-object ```grid``` has dimensions 40x40, the excution of ```coincidingVertices``` may take a while to terminate.\n",
    "\n",
    "Now we obtained a ```Mesh```, which is a discretisation of the Roman surface surface: ```roman```. We can write this ```Mesh``` to storage as a .obj file by using"
   ]
  },
  {
   "cell_type": "code",
   "execution_count": 2,
   "id": "8114a853-c335-4e3c-88fa-5e827928a6c1",
   "metadata": {},
   "outputs": [],
   "source": [
    "from maniflow.mesh.obj import OBJFile\n",
    "OBJFile.write(roman, \"roman_surface.obj\")"
   ]
  },
  {
   "cell_type": "markdown",
   "id": "5a8738ea-5f8d-4673-87d5-3cf62457d9a6",
   "metadata": {},
   "source": [
    "## Checking the orientability\n",
    "\n",
    "By calling ```isOrientable``` we can check whether the ```Mesh``` we obtained is actually non-orientable:"
   ]
  },
  {
   "cell_type": "code",
   "execution_count": 3,
   "id": "2126d4f7-eb4e-4b86-a5cc-7596d2181799",
   "metadata": {},
   "outputs": [
    {
     "data": {
      "text/plain": [
       "False"
      ]
     },
     "execution_count": 3,
     "metadata": {},
     "output_type": "execute_result"
    }
   ],
   "source": [
    "isOrientable(roman)"
   ]
  },
  {
   "cell_type": "markdown",
   "id": "ac4d7864-24b0-4d52-bba8-1d8c5280798a",
   "metadata": {},
   "source": [
    "Thus it is shown that the discrete approximation of the Roman surface is indeed not orientable."
   ]
  },
  {
   "cell_type": "code",
   "execution_count": null,
   "id": "2befde50-7399-40fc-9d60-87a0e230991d",
   "metadata": {},
   "outputs": [],
   "source": []
  }
 ],
 "metadata": {
  "kernelspec": {
   "display_name": "Python 3 (ipykernel)",
   "language": "python",
   "name": "python3"
  },
  "language_info": {
   "codemirror_mode": {
    "name": "ipython",
    "version": 3
   },
   "file_extension": ".py",
   "mimetype": "text/x-python",
   "name": "python",
   "nbconvert_exporter": "python",
   "pygments_lexer": "ipython3",
   "version": "3.11.5"
  }
 },
 "nbformat": 4,
 "nbformat_minor": 5
}
