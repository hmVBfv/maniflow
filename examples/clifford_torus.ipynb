{
 "cells": [
  {
   "cell_type": "markdown",
   "id": "35ee9c10-d002-4c60-9c4b-8e968d7dbe94",
   "metadata": {},
   "source": [
    "# Example: The Clifford Torus\n",
    "\n",
    "We denote $S^3 = \\{x\\in\\mathbb{R}^4\\vert \\Vert x\\Vert = 1\\}$ for the $3$-dimensional unit sphere.\n",
    "The [Clifford torus](https://en.wikipedia.org/wiki/Clifford_torus) is defined by\n",
    "\\begin{align}\n",
    "T = \\left\\{\\frac1{\\sqrt 2}\\left(\\cos\\theta,\\sin\\theta,\\cos\\varphi,\\sin\\varphi\\right)\\mid 0\\leq\\theta\\leq2\\pi,0\\leq\\varphi\\leq2\\pi\\right\\}\\subset\\mathbb R^4\n",
    "\\end{align}\n",
    "One can easily show that $T$ is a minimal surface in $S^3$.\n",
    "\n",
    "Since $T$ is a submanifold of $S^3$ we may project it into $\\mathbb R^3$ using the stereographic projection\n",
    "\\begin{align}\n",
    "S^3\\setminus\\{(0,0,0,1)\\}\\ni (x, y, z, w)\\mapsto \\left(\\frac{x}{1-w},\\frac{y}{1-w},\\frac{z}{1-w}\\right)\\in\\mathbb R^3\n",
    "\\end{align}\n",
    "Using ```maniflow``` we can implement the stereographic projection as a ```VertexFunction```:"
   ]
  },
  {
   "cell_type": "code",
   "execution_count": 1,
   "id": "a5f83709-759c-4d6f-9e8f-3a8239bd0d00",
   "metadata": {},
   "outputs": [],
   "source": [
    "from maniflow.mesh.utils import VertexFunction\n",
    "\n",
    "@VertexFunction\n",
    "def stereographicProjection(vertex):\n",
    "    return vertex[:3:] / (1 - vertex[-1])"
   ]
  },
  {
   "cell_type": "markdown",
   "id": "1026aa0e-f957-4c03-aa34-b317fe7d4133",
   "metadata": {},
   "source": [
    "Since $T\\subset\\mathbb R^4$ we can rotate the Clifford torus around the $w$-axis by the angle $\\alpha$ by applying the following rotation matrix:\n",
    "\\begin{align}\n",
    "\\begin{pmatrix}1&0&0&0\\\\0&\\cos\\alpha&0&\\sin\\alpha\\\\0&0&1&0\\\\0&-\\sin\\alpha&0&\\cos\\alpha\\end{pmatrix}\n",
    "\\end{align}\n",
    "\n",
    "The goal of this example will be to let the Clifford torus $T$ perform a simple rotation in the $w$-axis. By projecting it into $\\mathbb R^3$ by the stereographic projection we can then render it.\n",
    "\n",
    "## Capturing the Clifford torus in code\n",
    "\n",
    "By the definition above we may model the Clifford torus in ```maniflow``` by mapping $[0,2\\pi]\\times[0,2\\pi]$ to the Clifford torus using the mapping\n",
    "\\begin{align}\n",
    "(\\theta, \\varphi)\\mapsto\\frac1{\\sqrt 2}\\left(\\cos\\theta,\\sin\\theta,\\cos\\varphi,\\sin\\varphi\\right)\n",
    "\\end{align}\n",
    "Using ```maniflow``` we can model this by the following"
   ]
  },
  {
   "cell_type": "code",
   "execution_count": 2,
   "id": "a1163a75-f423-4d3b-a08f-9208dac43d82",
   "metadata": {},
   "outputs": [],
   "source": [
    "import numpy as np\n",
    "from maniflow.mesh.parameterized import Grid\n",
    "\n",
    "grid = Grid((0, 2*np.pi), (0, 2*np.pi), 40, 40)  # creating a discrete version of the set [0,2pi]x[0,2pi]\n",
    "\n",
    "# modeling the parametrization as a VertexFunction\n",
    "@VertexFunction\n",
    "def clifford_torus(vertex):\n",
    "    theta, phi = vertex[0], vertex[1]\n",
    "    return np.array([np.cos(theta), np.sin(theta), np.cos(phi), np.sin(phi)]) / np.sqrt(2)\n",
    "\n",
    "# creating the Mesh object that is the Clifford torus\n",
    "torus = clifford_torus(grid)"
   ]
  },
  {
   "cell_type": "markdown",
   "id": "f3ee5058-d2d1-4519-89cf-a357767fedc6",
   "metadata": {},
   "source": [
    "## Creating a method for rotating the Clifford torus\n",
    "\n",
    "Now we have obtained the mesh ```torus```. The next step will be to create a method for rotating the Clifford torus. By using the considerations from above we may use the rotation matrix. Let ```N``` be the number of frames our animation will have:"
   ]
  },
  {
   "cell_type": "code",
   "execution_count": 3,
   "id": "6a77337f-c82f-4d46-b2a2-e08fe5332fb2",
   "metadata": {},
   "outputs": [],
   "source": [
    "N = 300  # we arbitrarily set the number of frames to 300\n",
    "\n",
    "# create a function that will accept an angle and return the desired rotation matrix as described above\n",
    "rotationMatrix = lambda alpha: np.array([\n",
    "    [1, 0, 0, 0],\n",
    "    [0, np.cos(alpha), 0, np.sin(alpha)],\n",
    "    [0, 0, 1, 0],\n",
    "    [0, -np.sin(alpha), 0, np.cos(alpha)]\n",
    "])\n",
    "\n",
    "\n",
    "# we can now create another VertexFunction that will apply this rotation matrix to every vertex \n",
    "@VertexFunction\n",
    "def rotate(vertex):\n",
    "    return rotationMatrix(2 * np.pi / N).dot(vertex)  # we want to rotate by 2pi/N to perform one full rotation in the animation"
   ]
  },
  {
   "cell_type": "markdown",
   "id": "13e722b6-1d4a-4dbe-bda0-a4f63982c187",
   "metadata": {},
   "source": [
    "## Creating the animation\n",
    "\n",
    "Now we can turn our attention to the animation. The procedure is very simple: we rotate the Clifford torus in each frame by the angle $\\frac{2\\pi}N$ and project it with the stereographic projection into the R^3. Then we can render the frame."
   ]
  },
  {
   "cell_type": "code",
   "execution_count": null,
   "id": "fa578beb-4418-438f-9315-cae112931eee",
   "metadata": {},
   "outputs": [],
   "source": [
    "from maniflow.render import SVGPainterRenderer\n",
    "from maniflow.render.scene import *\n",
    "\n",
    "\n",
    "camera = Camera(position=(25., 2., 5.), target=(0., 0., 0.))\n",
    "scene = Scene(camera=camera, width=720, height=720, light=np.array([20., 0., 0.]))\n",
    "renderer = SVGPainterRenderer(scene)\n",
    "shader = Shader(fill=[230., 232., 252.], fill_opacity=60, stroke=[25., 193., 209., 255.],\n",
    "                stroke_width=\"0.6\", specular=20, shininess=60,\n",
    "                back_fill=[230., 232., 252.], back_opacity=30.,\n",
    "                back_stroke=[25., 193., 209., 255.])\n",
    "\n",
    "for i in range(N):\n",
    "    projected = stereographicProjection(torus)\n",
    "    projected.setShader(shader)\n",
    "    image = renderer.render(projected)\n",
    "    image.save_svg(\"render/clifford\" + str(i) + \".svg\")\n",
    "    torus = rotate(torus)"
   ]
  },
  {
   "cell_type": "markdown",
   "id": "f95f3f51-1b0c-4354-b1db-aa7a05e407aa",
   "metadata": {},
   "source": [
    "Now we can bring the individual frames together to form a GIF. For this we use ```ffmpeg```:\n",
    "```bash\n",
    "ffmpeg -i render/clifford%1d.svg -vf format=yuv420p clifford_torus.gif\n",
    "```\n",
    "The resulting animation is now saved as [clifford_torus.gif](clifford_torus.gif):\n",
    "\n",
    "<p style=\"text-align: center;\">\n",
    "    <img title=\"The Clifford torus\" width=500 src=\"clifford_torus.gif\" alt=\"Not Found\";\">\n",
    "</p>"
   ]
  },
  {
   "cell_type": "markdown",
   "id": "bed286ea-117b-4b3e-a0a7-70f6652b8f92",
   "metadata": {},
   "source": [
    "Thus we have recreated the [gif](https://commons.wikimedia.org/wiki/File:Clifford-torus.gif) for the Clifford torus on wikipedia."
   ]
  },
  {
   "cell_type": "code",
   "execution_count": null,
   "id": "77b1caf8-36e3-4e64-a111-0f944cbce37c",
   "metadata": {},
   "outputs": [],
   "source": []
  }
 ],
 "metadata": {
  "kernelspec": {
   "display_name": "Python 3 (ipykernel)",
   "language": "python",
   "name": "python3"
  },
  "language_info": {
   "codemirror_mode": {
    "name": "ipython",
    "version": 3
   },
   "file_extension": ".py",
   "mimetype": "text/x-python",
   "name": "python",
   "nbconvert_exporter": "python",
   "pygments_lexer": "ipython3",
   "version": "3.11.3"
  }
 },
 "nbformat": 4,
 "nbformat_minor": 5
}
